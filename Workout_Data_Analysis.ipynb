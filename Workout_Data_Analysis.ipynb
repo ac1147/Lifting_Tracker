{
  "nbformat": 4,
  "nbformat_minor": 0,
  "metadata": {
    "colab": {
      "provenance": []
    },
    "kernelspec": {
      "name": "python3",
      "display_name": "Python 3"
    },
    "language_info": {
      "name": "python"
    }
  },
  "cells": [
    {
      "cell_type": "markdown",
      "source": [
        "# **Setup**"
      ],
      "metadata": {
        "id": "0yzsPZ7mvuRQ"
      }
    },
    {
      "cell_type": "code",
      "execution_count": 11,
      "metadata": {
        "colab": {
          "base_uri": "https://localhost:8080/"
        },
        "id": "nxY2QzXToaVL",
        "outputId": "5204dbb2-2f21-4b6b-cfd8-fb6609e89dc2"
      },
      "outputs": [
        {
          "output_type": "stream",
          "name": "stdout",
          "text": [
            "Requirement already satisfied: gspread in /usr/local/lib/python3.12/dist-packages (6.2.1)\n",
            "Requirement already satisfied: gspread_dataframe in /usr/local/lib/python3.12/dist-packages (4.0.0)\n",
            "Requirement already satisfied: google-auth>=1.12.0 in /usr/local/lib/python3.12/dist-packages (from gspread) (2.38.0)\n",
            "Requirement already satisfied: google-auth-oauthlib>=0.4.1 in /usr/local/lib/python3.12/dist-packages (from gspread) (1.2.2)\n",
            "Requirement already satisfied: pandas>=0.24.0 in /usr/local/lib/python3.12/dist-packages (from gspread_dataframe) (2.2.2)\n",
            "Requirement already satisfied: six>=1.12.0 in /usr/local/lib/python3.12/dist-packages (from gspread_dataframe) (1.17.0)\n",
            "Requirement already satisfied: cachetools<6.0,>=2.0.0 in /usr/local/lib/python3.12/dist-packages (from google-auth>=1.12.0->gspread) (5.5.2)\n",
            "Requirement already satisfied: pyasn1-modules>=0.2.1 in /usr/local/lib/python3.12/dist-packages (from google-auth>=1.12.0->gspread) (0.4.2)\n",
            "Requirement already satisfied: rsa<5,>=3.1.4 in /usr/local/lib/python3.12/dist-packages (from google-auth>=1.12.0->gspread) (4.9.1)\n",
            "Requirement already satisfied: requests-oauthlib>=0.7.0 in /usr/local/lib/python3.12/dist-packages (from google-auth-oauthlib>=0.4.1->gspread) (2.0.0)\n",
            "Requirement already satisfied: numpy>=1.26.0 in /usr/local/lib/python3.12/dist-packages (from pandas>=0.24.0->gspread_dataframe) (2.0.2)\n",
            "Requirement already satisfied: python-dateutil>=2.8.2 in /usr/local/lib/python3.12/dist-packages (from pandas>=0.24.0->gspread_dataframe) (2.9.0.post0)\n",
            "Requirement already satisfied: pytz>=2020.1 in /usr/local/lib/python3.12/dist-packages (from pandas>=0.24.0->gspread_dataframe) (2025.2)\n",
            "Requirement already satisfied: tzdata>=2022.7 in /usr/local/lib/python3.12/dist-packages (from pandas>=0.24.0->gspread_dataframe) (2025.2)\n",
            "Requirement already satisfied: pyasn1<0.7.0,>=0.6.1 in /usr/local/lib/python3.12/dist-packages (from pyasn1-modules>=0.2.1->google-auth>=1.12.0->gspread) (0.6.1)\n",
            "Requirement already satisfied: oauthlib>=3.0.0 in /usr/local/lib/python3.12/dist-packages (from requests-oauthlib>=0.7.0->google-auth-oauthlib>=0.4.1->gspread) (3.3.1)\n",
            "Requirement already satisfied: requests>=2.0.0 in /usr/local/lib/python3.12/dist-packages (from requests-oauthlib>=0.7.0->google-auth-oauthlib>=0.4.1->gspread) (2.32.4)\n",
            "Requirement already satisfied: charset_normalizer<4,>=2 in /usr/local/lib/python3.12/dist-packages (from requests>=2.0.0->requests-oauthlib>=0.7.0->google-auth-oauthlib>=0.4.1->gspread) (3.4.3)\n",
            "Requirement already satisfied: idna<4,>=2.5 in /usr/local/lib/python3.12/dist-packages (from requests>=2.0.0->requests-oauthlib>=0.7.0->google-auth-oauthlib>=0.4.1->gspread) (3.10)\n",
            "Requirement already satisfied: urllib3<3,>=1.21.1 in /usr/local/lib/python3.12/dist-packages (from requests>=2.0.0->requests-oauthlib>=0.7.0->google-auth-oauthlib>=0.4.1->gspread) (2.5.0)\n",
            "Requirement already satisfied: certifi>=2017.4.17 in /usr/local/lib/python3.12/dist-packages (from requests>=2.0.0->requests-oauthlib>=0.7.0->google-auth-oauthlib>=0.4.1->gspread) (2025.8.3)\n"
          ]
        }
      ],
      "source": [
        "!pip install gspread gspread_dataframe\n",
        "\n",
        "# Authenticate with your Google account\n",
        "from google.colab import auth\n",
        "auth.authenticate_user()\n",
        "\n",
        "import gspread\n",
        "from gspread_dataframe import get_as_dataframe\n",
        "from google.auth import default\n",
        "import pandas as pd\n",
        "import matplotlib.pyplot as plt\n",
        "from scipy.stats import spearmanr\n",
        "\n",
        "# Authorize access to Google Sheets\n",
        "creds, _ = default()\n",
        "gc = gspread.authorize(creds)"
      ]
    },
    {
      "cell_type": "markdown",
      "source": [
        "# **Set Up Data**"
      ],
      "metadata": {
        "id": "w8omFWfHv1Kq"
      }
    },
    {
      "cell_type": "code",
      "source": [
        "# Open the spreadsheet by its name\n",
        "sh = gc.open(\"Lifting Progress\")\n",
        "\n",
        "# Select the sheet (tab) called \"Master Data Base\"\n",
        "worksheet = sh.worksheet(\"Matser Data Base\")\n",
        "\n",
        "# Convert the sheet into a pandas DataFrame\n",
        "df = get_as_dataframe(worksheet, evaluate_formulas=True, dtype=str)\n",
        "\n",
        "# Drop completely empty rows/columns (common in Sheets)\n",
        "df = df.dropna(how=\"all\").reset_index(drop=True)\n",
        "\n",
        "# Convert columns to proper dtypes\n",
        "df[\"Date\"] = pd.to_datetime(df[\"Date\"], errors=\"coerce\")\n",
        "df[\"Sets\"] = pd.to_numeric(df[\"Sets\"], errors=\"coerce\")\n",
        "df[\"Weight\"] = pd.to_numeric(df[\"Weight\"], errors=\"coerce\")\n",
        "df[\"Reps\"] = pd.to_numeric(df[\"Reps\"], errors=\"coerce\")\n",
        "df[\"Days\"] = (df[\"Date\"] - df[\"Date\"].min()).dt.days"
      ],
      "metadata": {
        "id": "s2sU05VAviw1"
      },
      "execution_count": 26,
      "outputs": []
    },
    {
      "cell_type": "markdown",
      "source": [
        "# **Plot Data**"
      ],
      "metadata": {
        "id": "hZybFz6cwMAX"
      }
    },
    {
      "cell_type": "code",
      "source": [
        "def plotOneRepMax(Exercise):\n",
        "    #Function to make line plot of One Rep Max vs Time for an exercise\n",
        "\n",
        "    exerciseData = df[df[\"Exercise\"] == Exercise]\n",
        "    exerciseDataThree = exerciseData[exerciseData[\"Sets\"] == 3]\n",
        "\n",
        "    # Use Brzycki formula to calc 1RM\n",
        "    oneRepMax = exerciseDataThree[\"Weight\"] / (1.0278 - ( 0.0278 * exerciseDataThree[\"Reps\"]))\n",
        "\n",
        "    plt.plot(exerciseDataThree[\"Date\"], oneRepMax)\n",
        "    plt.xlabel(\"Date\")\n",
        "    plt.xticks(rotation=45)  # or 90 for vertical\n",
        "    plt.ylabel(\"1RM\")\n",
        "    plt.title(Exercise)\n",
        "    plt.show()\n",
        "    return\n",
        "\n",
        "plotOneRepMax(\"Tricep Rope Pushdown\")"
      ],
      "metadata": {
        "colab": {
          "base_uri": "https://localhost:8080/",
          "height": 524
        },
        "id": "KB__vHYLvorM",
        "outputId": "4d44a1e4-f20f-4327-9210-ea54d3d13ec7"
      },
      "execution_count": 28,
      "outputs": [
        {
          "output_type": "display_data",
          "data": {
            "text/plain": [
              "<Figure size 640x480 with 1 Axes>"
            ],
            "image/png": "[encoded data removed]"
          },
          "metadata": {}
        }
      ]
    },
    {
      "cell_type": "markdown",
      "source": [
        "# **Show Stats**"
      ],
      "metadata": {
        "id": "4LVuuFAYwRMm"
      }
    },
    {
      "cell_type": "code",
      "source": [
        "# Convert columns to proper dtypes\n",
        "df[\"Date\"] = pd.to_datetime(df[\"Date\"], errors=\"coerce\")\n",
        "df[\"Sets\"] = pd.to_numeric(df[\"Sets\"], errors=\"coerce\")\n",
        "df[\"Weight\"] = pd.to_numeric(df[\"Weight\"], errors=\"coerce\")\n",
        "df[\"Reps\"] = pd.to_numeric(df[\"Reps\"], errors=\"coerce\")\n",
        "df[\"Days\"] = (df[\"Date\"] - df[\"Date\"].min()).dt.days\n",
        "\n",
        "# print(df.head())   # Show first few rows\n",
        "\n",
        "def findCorrelation(Exercise):\n",
        "    #Function that finds spearman correlation coefficent between 1RM and Time\n",
        "\n",
        "    exerciseData = df[df[\"Exercise\"] == Exercise]\n",
        "    exerciseDataThree = exerciseData[exerciseData[\"Sets\"] == 3]\n",
        "\n",
        "    oneRepMax = exerciseDataThree[\"Weight\"] / (1.0278 - ( 0.0278 * exerciseDataThree[\"Reps\"]))\n",
        "\n",
        "    corr, _ = spearmanr(exerciseDataThree[\"Days\"], oneRepMax)\n",
        "    return corr\n",
        "\n",
        "def findPValue(Exercise):\n",
        "    #Function that finds spearman correlation coefficent between 1RM and Time\n",
        "\n",
        "    exerciseData = df[df[\"Exercise\"] == Exercise]\n",
        "    exerciseDataThree = exerciseData[exerciseData[\"Sets\"] == 3]\n",
        "\n",
        "    oneRepMax = exerciseDataThree[\"Weight\"] / (1.0278 - (0.0278 * exerciseDataThree[\"Reps\"]))\n",
        "\n",
        "    _, pValue = spearmanr(exerciseDataThree[\"Days\"], oneRepMax)\n",
        "    return pValue\n",
        "\n",
        "\n",
        "exerciseList = df[\"Exercise\"].unique().tolist()\n",
        "\n",
        "\n",
        "# Make new data frame with spearman correlation and P Values\n",
        "corrValues = {\n",
        "    'Exercise': exerciseList,\n",
        "    'Corr': [findCorrelation(exercise) for exercise in exerciseList],\n",
        "    'pValue': [findPValue(exercise) for exercise in exerciseList]\n",
        "}\n",
        "\n",
        "df = pd.DataFrame(corrValues)\n",
        "\n",
        "df_sorted = df.sort_values(by = 'Corr', ascending = True)\n",
        "\n",
        "print(df_sorted)\n",
        "\n"
      ],
      "metadata": {
        "colab": {
          "base_uri": "https://localhost:8080/"
        },
        "id": "LrQGSfNGsuhk",
        "outputId": "c74fcffb-73e4-4572-f9c9-8856d5d0f14e"
      },
      "execution_count": 29,
      "outputs": [
        {
          "output_type": "stream",
          "name": "stdout",
          "text": [
            "                 Exercise      Corr    pValue\n",
            "8           Incline Press -0.239046  0.648261\n",
            "6    Tricpe Overhead Rope  0.169031  0.748868\n",
            "0           Lat Pull Down  0.212512  0.686031\n",
            "2     Baysian Cable Curls  0.576818  0.230732\n",
            "9          Shoulder Press  0.654654  0.158302\n",
            "5    Cable Lateral Raises  0.898645  0.014889\n",
            "3   Preacher Curl Machine  0.941124  0.005098\n",
            "1              Seated Row  0.942857  0.004805\n",
            "10            Fly Machine  0.942857  0.004805\n",
            "4       Rear Delt Machine  0.985611  0.000309\n",
            "7    Tricep Rope Pushdown  0.985611  0.000309\n"
          ]
        }
      ]
    }
  ]
}